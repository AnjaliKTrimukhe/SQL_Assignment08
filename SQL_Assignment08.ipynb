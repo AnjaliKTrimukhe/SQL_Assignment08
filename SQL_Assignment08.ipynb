{
 "cells": [
  {
   "cell_type": "markdown",
   "id": "5aa28656",
   "metadata": {},
   "source": [
    "Q-15. Write an SQL query to fetch intersecting records of two tables.\n",
    "Ans:\n",
    "SELECT  ID, NAME, Amount, Date\n",
    "     FROM Customers\n",
    "INTERSECT\n",
    "     SELECT  ID, NAME, Amount, Date\n",
    "     FROM Customers;"
   ]
  },
  {
   "cell_type": "markdown",
   "id": "c31c06ec",
   "metadata": {},
   "source": [
    "Q-16. Write an SQL query to show records from one table that another table does not\n",
    "have.\n",
    "Ans:\n",
    "SELECT emp_id,emp_name  \n",
    "FROM employee_details\n",
    "WHERE NOT EXISTS\n",
    "(SELECT *  \n",
    "   FROM  employee_resigned\n",
    "   WHERE employee_details.emp_id = employee_resigned.emp_id);"
   ]
  }
 ],
 "metadata": {
  "kernelspec": {
   "display_name": "Python 3 (ipykernel)",
   "language": "python",
   "name": "python3"
  },
  "language_info": {
   "codemirror_mode": {
    "name": "ipython",
    "version": 3
   },
   "file_extension": ".py",
   "mimetype": "text/x-python",
   "name": "python",
   "nbconvert_exporter": "python",
   "pygments_lexer": "ipython3",
   "version": "3.9.7"
  }
 },
 "nbformat": 4,
 "nbformat_minor": 5
}
